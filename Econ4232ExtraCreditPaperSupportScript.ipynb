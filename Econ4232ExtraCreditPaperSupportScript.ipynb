{
 "cells": [
  {
   "cell_type": "code",
   "execution_count": 2,
   "id": "f1f6633b",
   "metadata": {},
   "outputs": [],
   "source": [
    "import numpy as np\n",
    "import pandas as pd\n",
    "from sklearn.preprocessing import OneHotEncoder, StandardScaler\n",
    "from sklearn.compose import ColumnTransformer\n",
    "from sklearn.pipeline import Pipeline\n",
    "from sklearn.linear_model import LogisticRegression\n",
    "import statsmodels.api as sm\n",
    "from sklearn.utils import shuffle\n",
    "from sklearn.ensemble import RandomForestClassifier\n",
    "from statsmodels.iolib.summary2 import summary_col\n",
    "import warnings\n",
    "warnings.filterwarnings(\"ignore\")"
   ]
  },
  {
   "cell_type": "code",
   "execution_count": 3,
   "id": "ef895887",
   "metadata": {},
   "outputs": [],
   "source": [
    "df = pd.read_csv(\"/Users/Giulio/Library/Mobile Documents/com~apple~CloudDocs/Bocconi/Third Year/Exchange/Courses/Labor Economics/Extra credit paper/Datasets/train.csv\")"
   ]
  },
  {
   "cell_type": "code",
   "execution_count": 4,
   "id": "ed6060d4",
   "metadata": {},
   "outputs": [],
   "source": [
    "df.rename(columns={\"educational-num\":\"schooling\", \"race\":\"ethnicity\", \"hours-per-week\":\"hours\", \"native-country\":\"immigrant\", \"income_>50K\":\"target\"}, inplace=True) "
   ]
  },
  {
   "cell_type": "code",
   "execution_count": 5,
   "id": "b68ed762",
   "metadata": {},
   "outputs": [],
   "source": [
    "df.drop([\"education\", \"relationship\", \"capital-gain\", \"capital-loss\"], axis=1, inplace=True)"
   ]
  },
  {
   "cell_type": "code",
   "execution_count": 6,
   "id": "fb60f076",
   "metadata": {},
   "outputs": [
    {
     "name": "stdout",
     "output_type": "stream",
     "text": [
      "0.07348090179038606\n"
     ]
    }
   ],
   "source": [
    "print(len(df[df.isnull().any(axis=1)]) / len(df))\n",
    "df.dropna(inplace=True)"
   ]
  },
  {
   "cell_type": "code",
   "execution_count": null,
   "id": "15810309",
   "metadata": {},
   "outputs": [],
   "source": []
  },
  {
   "cell_type": "code",
   "execution_count": 7,
   "id": "09e5c112",
   "metadata": {},
   "outputs": [],
   "source": [
    "df[\"workclass\"] = df[\"workclass\"].replace({\"State-gov\": \"Gov\", \"Federal-gov\": \"Gov\", \"Local-gov\": \"Gov\", \n",
    "                                           \"Self-emp-not-inc\": \"Self-emp\", \"Self-emp-inc\": \"Self-emp\"})\n",
    "\n",
    "df[\"marital-status\"] = df[\"marital-status\"].replace({\"Divorced\": \"Separated\", \"Married-spouse-absent\": \"Separated\",\n",
    "                                                    \"Married-civ-spouse\": \"Married\", \"Married-AF-spouse\": \"Married\"})\n",
    "\n",
    "df[\"occupation\"] = df[\"occupation\"].replace({\"Exec-managerial\": \"White Collar\", 'Adm-clerical': 'White Collar', 'Prof-specialty': 'White Collar', 'Tech-support': 'White Collar', \n",
    "                                             'Craft-repair': 'Blue Collar', 'Machine-op-inspct': 'Blue Collar', 'Handlers-cleaners': 'Blue Collar', 'Transport-moving': 'Blue Collar','Farming-fishing': 'Blue Collar',\n",
    "                                             'Sales': 'Service', 'Other-service': 'Service', 'Protective-serv': 'Service', 'Priv-house-serv': 'Service',\n",
    "                                             'Armed-Forces': 'Military'})\n",
    "\n",
    "df[\"ethnicity\"] = df[\"ethnicity\"].replace({\"Asian-Pac-Islander\": \"Asian\", \n",
    "                                           \"Amer-Indian-Eskimo\": \"Eskimo\"})\n",
    "\n",
    "df[\"immigrant\"] = np.where(df[\"immigrant\"] == \"United-States\", 0, 1)\n"
   ]
  },
  {
   "cell_type": "code",
   "execution_count": 8,
   "id": "8d47adaf",
   "metadata": {},
   "outputs": [
    {
     "name": "stdout",
     "output_type": "stream",
     "text": [
      "0.0002946448302109166\n"
     ]
    }
   ],
   "source": [
    "print(len(df[df[\"occupation\"]==\"Military\"]) / len(df))\n",
    "df = df[df[\"occupation\"] != \"Military\"]"
   ]
  },
  {
   "cell_type": "code",
   "execution_count": null,
   "id": "9854629c",
   "metadata": {},
   "outputs": [],
   "source": []
  },
  {
   "cell_type": "code",
   "execution_count": 9,
   "id": "4fd0944a",
   "metadata": {},
   "outputs": [],
   "source": [
    "# Standardization\n",
    "features_to_standardize = [\"age\", \"fnlwgt\", \"schooling\", \"hours\"]\n",
    "for i in range(len(features_to_standardize)):\n",
    "    x = np.array(df[features_to_standardize[i]]).reshape(-1,1)\n",
    "    scaler = StandardScaler()\n",
    "    scaler.fit(x)\n",
    "    df[features_to_standardize[i]] = scaler.transform(x)"
   ]
  },
  {
   "cell_type": "code",
   "execution_count": null,
   "id": "61cbf3d3",
   "metadata": {},
   "outputs": [],
   "source": []
  },
  {
   "cell_type": "code",
   "execution_count": 10,
   "id": "68665050",
   "metadata": {},
   "outputs": [],
   "source": [
    "# One-Hot encoding\n",
    "features_to_encode = [\"workclass\", \"marital-status\", \"occupation\", \"ethnicity\"]\n",
    "other_features = [\"age\", \"fnlwgt\", \"schooling\", \"gender\", \"hours\", \"immigrant\", \"target\"]\n",
    "\n",
    "categorical_data = df[features_to_encode]\n",
    "\n",
    "encoder = OneHotEncoder(sparse=False, drop=\"first\")\n",
    "\n",
    "encoded_data = encoder.fit_transform(categorical_data)\n",
    "encoded_df = pd.DataFrame(encoded_data, columns=encoder.get_feature_names(features_to_encode), index=df.index)\n",
    "df_ohe = pd.concat([encoded_df, df[other_features]], axis=1)"
   ]
  },
  {
   "cell_type": "code",
   "execution_count": null,
   "id": "548d0f2a",
   "metadata": {},
   "outputs": [],
   "source": []
  },
  {
   "cell_type": "code",
   "execution_count": 11,
   "id": "792f10b0",
   "metadata": {},
   "outputs": [],
   "source": [
    "# Simple encoding\n",
    "for i in range(len(features_to_encode)):\n",
    "    x = df[features_to_encode[i]]\n",
    "    encoded_data, unique = pd.factorize(x)\n",
    "    df[features_to_encode[i]] = encoded_data"
   ]
  },
  {
   "cell_type": "code",
   "execution_count": null,
   "id": "d7073927",
   "metadata": {},
   "outputs": [],
   "source": []
  },
  {
   "cell_type": "code",
   "execution_count": 12,
   "id": "553c3711",
   "metadata": {},
   "outputs": [],
   "source": [
    "df_men = df[df[\"gender\"]==\"Male\"]\n",
    "df_women = df[df[\"gender\"]==\"Female\"]\n",
    "df_men.drop([\"gender\"], axis=1, inplace=True)\n",
    "df_women.drop([\"gender\"], axis=1, inplace=True)\n",
    "\n",
    "df_ohe_men = df_ohe[df_ohe[\"gender\"]==\"Male\"]\n",
    "df_ohe_women = df_ohe[df_ohe[\"gender\"]==\"Female\"]\n",
    "df_ohe_men.drop([\"gender\"], axis=1, inplace=True)\n",
    "df_ohe_women.drop([\"gender\"], axis=1, inplace=True)"
   ]
  },
  {
   "cell_type": "code",
   "execution_count": null,
   "id": "a6618ef2",
   "metadata": {},
   "outputs": [],
   "source": []
  },
  {
   "cell_type": "markdown",
   "id": "f86b1923",
   "metadata": {},
   "source": [
    "## Logistic Regression"
   ]
  },
  {
   "cell_type": "code",
   "execution_count": 13,
   "id": "a531cc1a",
   "metadata": {},
   "outputs": [
    {
     "name": "stdout",
     "output_type": "stream",
     "text": [
      "Optimization terminated successfully.\n",
      "         Current function value: 0.438515\n",
      "         Iterations 7\n",
      "                           Logit Regression Results                           \n",
      "==============================================================================\n",
      "Dep. Variable:                 target   No. Observations:                27478\n",
      "Model:                          Logit   Df Residuals:                    27460\n",
      "Method:                           MLE   Df Model:                           17\n",
      "Date:                Sat, 27 Apr 2024   Pseudo R-squ.:                  0.2939\n",
      "Time:                        14:20:22   Log-Likelihood:                -12050.\n",
      "converged:                       True   LL-Null:                       -17065.\n",
      "Covariance Type:            nonrobust   LLR p-value:                     0.000\n",
      "================================================================================================\n",
      "                                   coef    std err          z      P>|z|      [0.025      0.975]\n",
      "------------------------------------------------------------------------------------------------\n",
      "const                           -0.9162      0.117     -7.806      0.000      -1.146      -0.686\n",
      "workclass_Private                0.0846      0.047      1.803      0.071      -0.007       0.177\n",
      "workclass_Self-emp              -0.1957      0.058     -3.379      0.001      -0.309      -0.082\n",
      "workclass_Without-pay           -1.7356      1.099     -1.580      0.114      -3.889       0.418\n",
      "marital-status_Never-married    -2.3852      0.059    -40.238      0.000      -2.501      -2.269\n",
      "marital-status_Separated        -1.6560      0.059    -27.937      0.000      -1.772      -1.540\n",
      "marital-status_Widowed          -1.2540      0.183     -6.837      0.000      -1.613      -0.895\n",
      "occupation_Service               0.3060      0.045      6.847      0.000       0.218       0.394\n",
      "occupation_White Collar          0.7949      0.041     19.401      0.000       0.715       0.875\n",
      "ethnicity_Black                 -0.1434      0.127     -1.133      0.257      -0.392       0.105\n",
      "ethnicity_Eskimo                -0.5743      0.235     -2.447      0.014      -1.034      -0.114\n",
      "ethnicity_Other                 -0.3504      0.254     -1.381      0.167      -0.848       0.147\n",
      "ethnicity_White                  0.0213      0.107      0.200      0.842      -0.188       0.230\n",
      "age                              0.3993      0.019     20.640      0.000       0.361       0.437\n",
      "fnlwgt                           0.0812      0.016      4.982      0.000       0.049       0.113\n",
      "schooling                        0.7741      0.020     37.991      0.000       0.734       0.814\n",
      "hours                            0.3798      0.018     21.594      0.000       0.345       0.414\n",
      "immigrant                       -0.3555      0.071     -4.991      0.000      -0.495      -0.216\n",
      "================================================================================================\n",
      "Optimization terminated successfully.\n",
      "         Current function value: 0.219424\n",
      "         Iterations 8\n",
      "                           Logit Regression Results                           \n",
      "==============================================================================\n",
      "Dep. Variable:                 target   No. Observations:                13237\n",
      "Model:                          Logit   Df Residuals:                    13219\n",
      "Method:                           MLE   Df Model:                           17\n",
      "Date:                Sat, 27 Apr 2024   Pseudo R-squ.:                  0.3802\n",
      "Time:                        14:20:22   Log-Likelihood:                -2904.5\n",
      "converged:                       True   LL-Null:                       -4686.2\n",
      "Covariance Type:            nonrobust   LLR p-value:                     0.000\n",
      "================================================================================================\n",
      "                                   coef    std err          z      P>|z|      [0.025      0.975]\n",
      "------------------------------------------------------------------------------------------------\n",
      "const                           -0.6108      0.263     -2.322      0.020      -1.126      -0.095\n",
      "workclass_Private                0.1806      0.089      2.023      0.043       0.006       0.355\n",
      "workclass_Self-emp               0.2069      0.141      1.467      0.142      -0.069       0.483\n",
      "workclass_Without-pay           -0.4663      1.166     -0.400      0.689      -2.751       1.819\n",
      "marital-status_Never-married    -3.2852      0.097    -34.019      0.000      -3.474      -3.096\n",
      "marital-status_Separated        -3.0818      0.092    -33.644      0.000      -3.261      -2.902\n",
      "marital-status_Widowed          -3.1124      0.167    -18.634      0.000      -3.440      -2.785\n",
      "occupation_Service              -0.1417      0.157     -0.900      0.368      -0.450       0.167\n",
      "occupation_White Collar          0.4993      0.145      3.449      0.001       0.216       0.783\n",
      "ethnicity_Black                 -0.3838      0.237     -1.618      0.106      -0.849       0.081\n",
      "ethnicity_Eskimo                -0.3557      0.409     -0.870      0.384      -1.157       0.446\n",
      "ethnicity_Other                  0.1178      0.465      0.254      0.800      -0.793       1.028\n",
      "ethnicity_White                 -0.0012      0.211     -0.006      0.996      -0.414       0.411\n",
      "age                              0.5032      0.043     11.838      0.000       0.420       0.587\n",
      "fnlwgt                           0.0792      0.036      2.181      0.029       0.008       0.150\n",
      "schooling                        1.0845      0.047     23.225      0.000       0.993       1.176\n",
      "hours                            0.4611      0.037     12.614      0.000       0.389       0.533\n",
      "immigrant                       -0.2878      0.150     -1.924      0.054      -0.581       0.005\n",
      "================================================================================================\n"
     ]
    }
   ],
   "source": [
    "def analyze_lg(df):\n",
    "    X = df.drop(\"target\", axis=1)\n",
    "    y = df[\"target\"]\n",
    "    X = sm.add_constant(X) # here I just add a constant for statsmodels\n",
    "    model = sm.Logit(y, X).fit()\n",
    "    print(model.summary())\n",
    "\n",
    "analyze_lg(df_ohe_men)\n",
    "analyze_lg(df_ohe_women)"
   ]
  },
  {
   "cell_type": "code",
   "execution_count": null,
   "id": "5fd76316",
   "metadata": {},
   "outputs": [],
   "source": []
  },
  {
   "cell_type": "markdown",
   "id": "80c5bbf4",
   "metadata": {},
   "source": [
    "## Random Forest"
   ]
  },
  {
   "cell_type": "code",
   "execution_count": 14,
   "id": "b9e25410",
   "metadata": {},
   "outputs": [
    {
     "data": {
      "text/html": [
       "<div>\n",
       "<style scoped>\n",
       "    .dataframe tbody tr th:only-of-type {\n",
       "        vertical-align: middle;\n",
       "    }\n",
       "\n",
       "    .dataframe tbody tr th {\n",
       "        vertical-align: top;\n",
       "    }\n",
       "\n",
       "    .dataframe thead th {\n",
       "        text-align: right;\n",
       "    }\n",
       "</style>\n",
       "<table border=\"1\" class=\"dataframe\">\n",
       "  <thead>\n",
       "    <tr style=\"text-align: right;\">\n",
       "      <th></th>\n",
       "      <th>Feature</th>\n",
       "      <th>Importance_Men</th>\n",
       "      <th>Importance_Women</th>\n",
       "      <th>Difference</th>\n",
       "      <th>Average</th>\n",
       "    </tr>\n",
       "  </thead>\n",
       "  <tbody>\n",
       "    <tr>\n",
       "      <th>2</th>\n",
       "      <td>fnlwgt</td>\n",
       "      <td>30.259871</td>\n",
       "      <td>24.680234</td>\n",
       "      <td>5.579637</td>\n",
       "      <td>27.470053</td>\n",
       "    </tr>\n",
       "    <tr>\n",
       "      <th>0</th>\n",
       "      <td>age</td>\n",
       "      <td>21.641110</td>\n",
       "      <td>19.845440</td>\n",
       "      <td>1.795670</td>\n",
       "      <td>20.743275</td>\n",
       "    </tr>\n",
       "    <tr>\n",
       "      <th>4</th>\n",
       "      <td>marital-status</td>\n",
       "      <td>11.757529</td>\n",
       "      <td>21.264358</td>\n",
       "      <td>-9.506829</td>\n",
       "      <td>16.510944</td>\n",
       "    </tr>\n",
       "    <tr>\n",
       "      <th>3</th>\n",
       "      <td>schooling</td>\n",
       "      <td>14.110531</td>\n",
       "      <td>12.741629</td>\n",
       "      <td>1.368901</td>\n",
       "      <td>13.426080</td>\n",
       "    </tr>\n",
       "    <tr>\n",
       "      <th>7</th>\n",
       "      <td>hours</td>\n",
       "      <td>10.680897</td>\n",
       "      <td>11.250375</td>\n",
       "      <td>-0.569477</td>\n",
       "      <td>10.965636</td>\n",
       "    </tr>\n",
       "    <tr>\n",
       "      <th>5</th>\n",
       "      <td>occupation</td>\n",
       "      <td>5.836825</td>\n",
       "      <td>3.538922</td>\n",
       "      <td>2.297903</td>\n",
       "      <td>4.687874</td>\n",
       "    </tr>\n",
       "    <tr>\n",
       "      <th>1</th>\n",
       "      <td>workclass</td>\n",
       "      <td>2.959744</td>\n",
       "      <td>3.133205</td>\n",
       "      <td>-0.173461</td>\n",
       "      <td>3.046474</td>\n",
       "    </tr>\n",
       "    <tr>\n",
       "      <th>6</th>\n",
       "      <td>ethnicity</td>\n",
       "      <td>1.750908</td>\n",
       "      <td>2.335046</td>\n",
       "      <td>-0.584137</td>\n",
       "      <td>2.042977</td>\n",
       "    </tr>\n",
       "    <tr>\n",
       "      <th>8</th>\n",
       "      <td>immigrant</td>\n",
       "      <td>1.002584</td>\n",
       "      <td>1.210791</td>\n",
       "      <td>-0.208207</td>\n",
       "      <td>1.106687</td>\n",
       "    </tr>\n",
       "  </tbody>\n",
       "</table>\n",
       "</div>"
      ],
      "text/plain": [
       "          Feature  Importance_Men  Importance_Women  Difference    Average\n",
       "2          fnlwgt       30.259871         24.680234    5.579637  27.470053\n",
       "0             age       21.641110         19.845440    1.795670  20.743275\n",
       "4  marital-status       11.757529         21.264358   -9.506829  16.510944\n",
       "3       schooling       14.110531         12.741629    1.368901  13.426080\n",
       "7           hours       10.680897         11.250375   -0.569477  10.965636\n",
       "5      occupation        5.836825          3.538922    2.297903   4.687874\n",
       "1       workclass        2.959744          3.133205   -0.173461   3.046474\n",
       "6       ethnicity        1.750908          2.335046   -0.584137   2.042977\n",
       "8       immigrant        1.002584          1.210791   -0.208207   1.106687"
      ]
     },
     "execution_count": 14,
     "metadata": {},
     "output_type": "execute_result"
    }
   ],
   "source": [
    "X_men_rf = df_men.drop('target', axis=1)\n",
    "y_men_rf = df_men['target']\n",
    "X_women_rf = df_women.drop('target', axis=1)\n",
    "y_women_rf = df_women['target']\n",
    "\n",
    "rf_men = RandomForestClassifier(n_estimators=100)\n",
    "rf_men.fit(X_men_rf, y_men_rf)\n",
    "\n",
    "rf_women = RandomForestClassifier(n_estimators=100)\n",
    "rf_women.fit(X_women_rf, y_women_rf)\n",
    "\n",
    "importances_men = rf_men.feature_importances_\n",
    "importances_women = rf_women.feature_importances_\n",
    "importances_difference = rf_men.feature_importances_ - rf_women.feature_importances_\n",
    "importances_average = (rf_men.feature_importances_ + rf_women.feature_importances_) / 2\n",
    "\n",
    "feature_comparison = pd.DataFrame({\n",
    "    \"Feature\": X_men_rf.columns,\n",
    "    \"Importance_Men\": importances_men * 100,\n",
    "    \"Importance_Women\": importances_women * 100,\n",
    "    \"Difference\": importances_difference * 100,\n",
    "    \"Average\": importances_average * 100\n",
    "})\n",
    "\n",
    "feature_comparison.sort_values(by=\"Average\", ascending=False)"
   ]
  },
  {
   "cell_type": "code",
   "execution_count": null,
   "id": "2645bdd0",
   "metadata": {},
   "outputs": [],
   "source": []
  },
  {
   "cell_type": "markdown",
   "id": "b03f69c8",
   "metadata": {},
   "source": [
    "## Fairlie Decomposition Analysis"
   ]
  },
  {
   "cell_type": "code",
   "execution_count": 15,
   "id": "31548959",
   "metadata": {},
   "outputs": [
    {
     "data": {
      "text/plain": [
       "0.008982802157304935"
      ]
     },
     "execution_count": 15,
     "metadata": {},
     "output_type": "execute_result"
    }
   ],
   "source": [
    "X_men = df_ohe_men.drop([\"target\"], axis=1)\n",
    "X_women = df_ohe_women.drop([\"target\"], axis=1)\n",
    "y_men = np.array(df_ohe_men[\"target\"])\n",
    "y_women = np.array(df_ohe_women[\"target\"])\n",
    "\n",
    "cols = list(X_men.columns)\n",
    "\n",
    "model_men = LogisticRegression().fit(X_men, y_men)\n",
    "\n",
    "effects = []\n",
    "for i in range(1000):\n",
    "    X_women_shuffled = shuffle(X_women)\n",
    "    X_men_shorter = X_men.sample(len(X_women), replace=False)\n",
    "    delta_p = 0\n",
    "    for j in range(len(cols)):\n",
    "        X_temp = X_men_shorter.copy()\n",
    "        X_temp[cols[j]] = np.array(X_women_shuffled[cols[j]])\n",
    "        p_new = model_men.predict_proba(X_temp)[:, 1]\n",
    "        delta_p += np.mean(model_men.predict_proba(X_men_shorter)[:, 1] - p_new)\n",
    "    effects.append(delta_p / X_men.shape[1])\n",
    "\n",
    "average_explainable_effect = np.mean(effects)\n",
    "average_explainable_effect"
   ]
  },
  {
   "cell_type": "code",
   "execution_count": null,
   "id": "ccd5b524",
   "metadata": {},
   "outputs": [],
   "source": []
  },
  {
   "cell_type": "code",
   "execution_count": 16,
   "id": "243d0ffc",
   "metadata": {},
   "outputs": [
    {
     "data": {
      "text/plain": [
       "0.19881043464790613"
      ]
     },
     "execution_count": 16,
     "metadata": {},
     "output_type": "execute_result"
    }
   ],
   "source": [
    "model_women = LogisticRegression().fit(X_women, y_women)\n",
    "average_diff = np.mean(model_men.predict_proba(X_men)[:,1])  - np.mean(model_women.predict_proba(X_women)[:,1])    \n",
    "average_diff"
   ]
  },
  {
   "cell_type": "code",
   "execution_count": null,
   "id": "5e2c34ad",
   "metadata": {},
   "outputs": [],
   "source": []
  },
  {
   "cell_type": "code",
   "execution_count": 17,
   "id": "6d34447b",
   "metadata": {},
   "outputs": [
    {
     "name": "stdout",
     "output_type": "stream",
     "text": [
      "\n",
      "The average predicted probability of men earning more than $50,000 a year is 19.88% higher than for women          \n",
      "According to the data and models employed here, observed characteristics only account for 0.9% of this difference        \n",
      "This means that the rest, equal to 18.98% is left unexplained, possibly due to discrimination\n",
      "\n"
     ]
    }
   ],
   "source": [
    "print(f\"\"\"\n",
    "The average predicted probability of men earning more than $50,000 a year is {round(average_diff*100, 2)}% higher than for women          \n",
    "According to the data and models employed here, observed characteristics only account for {round(average_explainable_effect*100, 2)}% of this difference        \n",
    "This means that the rest, equal to {round((average_diff-average_explainable_effect)*100, 2)}% is left unexplained, possibly due to discrimination\n",
    "\"\"\")"
   ]
  },
  {
   "cell_type": "code",
   "execution_count": null,
   "id": "daad968e",
   "metadata": {},
   "outputs": [],
   "source": []
  },
  {
   "cell_type": "code",
   "execution_count": null,
   "id": "14d49b1e",
   "metadata": {},
   "outputs": [],
   "source": []
  },
  {
   "cell_type": "code",
   "execution_count": null,
   "id": "79bb431b",
   "metadata": {},
   "outputs": [],
   "source": []
  }
 ],
 "metadata": {
  "kernelspec": {
   "display_name": "Python 3 (ipykernel)",
   "language": "python",
   "name": "python3"
  },
  "language_info": {
   "codemirror_mode": {
    "name": "ipython",
    "version": 3
   },
   "file_extension": ".py",
   "mimetype": "text/x-python",
   "name": "python",
   "nbconvert_exporter": "python",
   "pygments_lexer": "ipython3",
   "version": "3.9.18"
  }
 },
 "nbformat": 4,
 "nbformat_minor": 5
}
